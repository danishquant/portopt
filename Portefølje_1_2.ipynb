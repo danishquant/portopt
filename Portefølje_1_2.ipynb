{
  "nbformat": 4,
  "nbformat_minor": 0,
  "metadata": {
    "colab": {
      "name": "Portefølje 1.2.ipynb",
      "provenance": [],
      "collapsed_sections": []
    },
    "kernelspec": {
      "name": "python3",
      "display_name": "Python 3"
    },
    "language_info": {
      "name": "python"
    }
  },
  "cells": [
    {
      "cell_type": "code",
      "metadata": {
        "colab": {
          "base_uri": "https://localhost:8080/"
        },
        "id": "qBcqQdLM_eSg",
        "outputId": "6417400f-cd61-4e79-95a0-afd9a7101b68"
      },
      "source": [
        "!pip install yfinance\n",
        "!pip install PyPortfolioopt"
      ],
      "execution_count": null,
      "outputs": [
        {
          "output_type": "stream",
          "name": "stdout",
          "text": [
            "Collecting yfinance\n",
            "  Downloading yfinance-0.1.63.tar.gz (26 kB)\n",
            "Requirement already satisfied: pandas>=0.24 in /usr/local/lib/python3.7/dist-packages (from yfinance) (1.1.5)\n",
            "Requirement already satisfied: numpy>=1.15 in /usr/local/lib/python3.7/dist-packages (from yfinance) (1.19.5)\n",
            "Requirement already satisfied: requests>=2.20 in /usr/local/lib/python3.7/dist-packages (from yfinance) (2.23.0)\n",
            "Requirement already satisfied: multitasking>=0.0.7 in /usr/local/lib/python3.7/dist-packages (from yfinance) (0.0.9)\n",
            "Collecting lxml>=4.5.1\n",
            "  Downloading lxml-4.6.3-cp37-cp37m-manylinux2014_x86_64.whl (6.3 MB)\n",
            "\u001b[K     |████████████████████████████████| 6.3 MB 7.3 MB/s \n",
            "\u001b[?25hRequirement already satisfied: pytz>=2017.2 in /usr/local/lib/python3.7/dist-packages (from pandas>=0.24->yfinance) (2018.9)\n",
            "Requirement already satisfied: python-dateutil>=2.7.3 in /usr/local/lib/python3.7/dist-packages (from pandas>=0.24->yfinance) (2.8.2)\n",
            "Requirement already satisfied: six>=1.5 in /usr/local/lib/python3.7/dist-packages (from python-dateutil>=2.7.3->pandas>=0.24->yfinance) (1.15.0)\n",
            "Requirement already satisfied: idna<3,>=2.5 in /usr/local/lib/python3.7/dist-packages (from requests>=2.20->yfinance) (2.10)\n",
            "Requirement already satisfied: urllib3!=1.25.0,!=1.25.1,<1.26,>=1.21.1 in /usr/local/lib/python3.7/dist-packages (from requests>=2.20->yfinance) (1.24.3)\n",
            "Requirement already satisfied: certifi>=2017.4.17 in /usr/local/lib/python3.7/dist-packages (from requests>=2.20->yfinance) (2021.5.30)\n",
            "Requirement already satisfied: chardet<4,>=3.0.2 in /usr/local/lib/python3.7/dist-packages (from requests>=2.20->yfinance) (3.0.4)\n",
            "Building wheels for collected packages: yfinance\n",
            "  Building wheel for yfinance (setup.py) ... \u001b[?25l\u001b[?25hdone\n",
            "  Created wheel for yfinance: filename=yfinance-0.1.63-py2.py3-none-any.whl size=23918 sha256=99dc986e64996385612575a4ac14c0e0c92e7c6c9ac755db4f19a9c4dee735e9\n",
            "  Stored in directory: /root/.cache/pip/wheels/fe/87/8b/7ec24486e001d3926537f5f7801f57a74d181be25b11157983\n",
            "Successfully built yfinance\n",
            "Installing collected packages: lxml, yfinance\n",
            "  Attempting uninstall: lxml\n",
            "    Found existing installation: lxml 4.2.6\n",
            "    Uninstalling lxml-4.2.6:\n",
            "      Successfully uninstalled lxml-4.2.6\n",
            "Successfully installed lxml-4.6.3 yfinance-0.1.63\n",
            "Collecting PyPortfolioopt\n",
            "  Downloading PyPortfolioOpt-1.4.2-py3-none-any.whl (60 kB)\n",
            "\u001b[K     |████████████████████████████████| 60 kB 3.2 MB/s \n",
            "\u001b[?25hRequirement already satisfied: pandas>=0.19 in /usr/local/lib/python3.7/dist-packages (from PyPortfolioopt) (1.1.5)\n",
            "Requirement already satisfied: numpy<2.0,>=1.12 in /usr/local/lib/python3.7/dist-packages (from PyPortfolioopt) (1.19.5)\n",
            "Collecting cvxpy<2.0.0,>=1.1.10\n",
            "  Downloading cvxpy-1.1.15-cp37-cp37m-manylinux_2_24_x86_64.whl (2.7 MB)\n",
            "\u001b[K     |████████████████████████████████| 2.7 MB 11.2 MB/s \n",
            "\u001b[?25hRequirement already satisfied: scipy<2.0,>=1.3 in /usr/local/lib/python3.7/dist-packages (from PyPortfolioopt) (1.4.1)\n",
            "Requirement already satisfied: scs>=1.1.6 in /usr/local/lib/python3.7/dist-packages (from cvxpy<2.0.0,>=1.1.10->PyPortfolioopt) (2.1.4)\n",
            "Requirement already satisfied: ecos>=2 in /usr/local/lib/python3.7/dist-packages (from cvxpy<2.0.0,>=1.1.10->PyPortfolioopt) (2.0.7.post1)\n",
            "Requirement already satisfied: osqp>=0.4.1 in /usr/local/lib/python3.7/dist-packages (from cvxpy<2.0.0,>=1.1.10->PyPortfolioopt) (0.6.2.post0)\n",
            "Requirement already satisfied: qdldl in /usr/local/lib/python3.7/dist-packages (from osqp>=0.4.1->cvxpy<2.0.0,>=1.1.10->PyPortfolioopt) (0.1.5.post0)\n",
            "Requirement already satisfied: python-dateutil>=2.7.3 in /usr/local/lib/python3.7/dist-packages (from pandas>=0.19->PyPortfolioopt) (2.8.2)\n",
            "Requirement already satisfied: pytz>=2017.2 in /usr/local/lib/python3.7/dist-packages (from pandas>=0.19->PyPortfolioopt) (2018.9)\n",
            "Requirement already satisfied: six>=1.5 in /usr/local/lib/python3.7/dist-packages (from python-dateutil>=2.7.3->pandas>=0.19->PyPortfolioopt) (1.15.0)\n",
            "Installing collected packages: cvxpy, PyPortfolioopt\n",
            "  Attempting uninstall: cvxpy\n",
            "    Found existing installation: cvxpy 1.0.31\n",
            "    Uninstalling cvxpy-1.0.31:\n",
            "      Successfully uninstalled cvxpy-1.0.31\n",
            "Successfully installed PyPortfolioopt-1.4.2 cvxpy-1.1.15\n"
          ]
        }
      ]
    },
    {
      "cell_type": "code",
      "metadata": {
        "id": "bnBDzU2f-X5K"
      },
      "source": [
        "import pandas as pd\n",
        "import yfinance as yf\n",
        "import numpy as np\n",
        "\n",
        "from pypfopt.efficient_frontier import EfficientFrontier\n",
        "from pypfopt import risk_models\n",
        "from pypfopt import expected_returns"
      ],
      "execution_count": null,
      "outputs": []
    },
    {
      "cell_type": "code",
      "metadata": {
        "id": "WBwgkTLM-udG"
      },
      "source": [
        "assets=[\"TLT\", \"TSLA\", \"FB\",\"^DJI\",\"GC=F\"]\n",
        "df=pd.DataFrame()"
      ],
      "execution_count": null,
      "outputs": []
    },
    {
      "cell_type": "code",
      "metadata": {
        "colab": {
          "base_uri": "https://localhost:8080/"
        },
        "id": "wS5rikR8_t6y",
        "outputId": "32c9a8c6-7e27-47e4-9f2a-4c3f5d6bdfe8"
      },
      "source": [
        "df=yf.download(assets, start=\"2013-01-01\", end=\"2020-12-31\")['Adj Close']"
      ],
      "execution_count": null,
      "outputs": [
        {
          "output_type": "stream",
          "name": "stdout",
          "text": [
            "[*********************100%***********************]  5 of 5 completed\n"
          ]
        }
      ]
    },
    {
      "cell_type": "code",
      "metadata": {
        "colab": {
          "base_uri": "https://localhost:8080/",
          "height": 450
        },
        "id": "BorMgO1Y_y_C",
        "outputId": "60d34d0f-6e49-483b-ac8c-dfefe5aee5f3"
      },
      "source": [
        "returns=df.pct_change()\n",
        "returns"
      ],
      "execution_count": null,
      "outputs": [
        {
          "output_type": "execute_result",
          "data": {
            "text/html": [
              "<div>\n",
              "<style scoped>\n",
              "    .dataframe tbody tr th:only-of-type {\n",
              "        vertical-align: middle;\n",
              "    }\n",
              "\n",
              "    .dataframe tbody tr th {\n",
              "        vertical-align: top;\n",
              "    }\n",
              "\n",
              "    .dataframe thead th {\n",
              "        text-align: right;\n",
              "    }\n",
              "</style>\n",
              "<table border=\"1\" class=\"dataframe\">\n",
              "  <thead>\n",
              "    <tr style=\"text-align: right;\">\n",
              "      <th></th>\n",
              "      <th>FB</th>\n",
              "      <th>GC=F</th>\n",
              "      <th>TLT</th>\n",
              "      <th>TSLA</th>\n",
              "      <th>^DJI</th>\n",
              "    </tr>\n",
              "    <tr>\n",
              "      <th>Date</th>\n",
              "      <th></th>\n",
              "      <th></th>\n",
              "      <th></th>\n",
              "      <th></th>\n",
              "      <th></th>\n",
              "    </tr>\n",
              "  </thead>\n",
              "  <tbody>\n",
              "    <tr>\n",
              "      <th>2013-01-02</th>\n",
              "      <td>NaN</td>\n",
              "      <td>NaN</td>\n",
              "      <td>NaN</td>\n",
              "      <td>NaN</td>\n",
              "      <td>NaN</td>\n",
              "    </tr>\n",
              "    <tr>\n",
              "      <th>2013-01-03</th>\n",
              "      <td>-0.008214</td>\n",
              "      <td>-0.008413</td>\n",
              "      <td>-0.013550</td>\n",
              "      <td>-0.016686</td>\n",
              "      <td>-0.001580</td>\n",
              "    </tr>\n",
              "    <tr>\n",
              "      <th>2013-01-04</th>\n",
              "      <td>0.035650</td>\n",
              "      <td>-0.015295</td>\n",
              "      <td>0.003900</td>\n",
              "      <td>-0.010641</td>\n",
              "      <td>0.003274</td>\n",
              "    </tr>\n",
              "    <tr>\n",
              "      <th>2013-01-07</th>\n",
              "      <td>0.022949</td>\n",
              "      <td>-0.001578</td>\n",
              "      <td>0.000422</td>\n",
              "      <td>-0.001744</td>\n",
              "      <td>-0.003790</td>\n",
              "    </tr>\n",
              "    <tr>\n",
              "      <th>2013-01-08</th>\n",
              "      <td>-0.012237</td>\n",
              "      <td>0.009723</td>\n",
              "      <td>0.006585</td>\n",
              "      <td>-0.019220</td>\n",
              "      <td>-0.004142</td>\n",
              "    </tr>\n",
              "    <tr>\n",
              "      <th>...</th>\n",
              "      <td>...</td>\n",
              "      <td>...</td>\n",
              "      <td>...</td>\n",
              "      <td>...</td>\n",
              "      <td>...</td>\n",
              "    </tr>\n",
              "    <tr>\n",
              "      <th>2020-12-23</th>\n",
              "      <td>0.003819</td>\n",
              "      <td>0.004339</td>\n",
              "      <td>-0.006909</td>\n",
              "      <td>0.008808</td>\n",
              "      <td>0.003809</td>\n",
              "    </tr>\n",
              "    <tr>\n",
              "      <th>2020-12-24</th>\n",
              "      <td>-0.002648</td>\n",
              "      <td>0.000000</td>\n",
              "      <td>0.003957</td>\n",
              "      <td>0.024444</td>\n",
              "      <td>0.002325</td>\n",
              "    </tr>\n",
              "    <tr>\n",
              "      <th>2020-12-28</th>\n",
              "      <td>0.035901</td>\n",
              "      <td>0.001334</td>\n",
              "      <td>0.000445</td>\n",
              "      <td>0.002901</td>\n",
              "      <td>0.006758</td>\n",
              "    </tr>\n",
              "    <tr>\n",
              "      <th>2020-12-29</th>\n",
              "      <td>-0.000794</td>\n",
              "      <td>0.001332</td>\n",
              "      <td>-0.001271</td>\n",
              "      <td>0.003465</td>\n",
              "      <td>-0.002246</td>\n",
              "    </tr>\n",
              "    <tr>\n",
              "      <th>2020-12-30</th>\n",
              "      <td>-0.017740</td>\n",
              "      <td>0.006012</td>\n",
              "      <td>0.002163</td>\n",
              "      <td>0.043229</td>\n",
              "      <td>0.002436</td>\n",
              "    </tr>\n",
              "  </tbody>\n",
              "</table>\n",
              "<p>2014 rows × 5 columns</p>\n",
              "</div>"
            ],
            "text/plain": [
              "                  FB      GC=F       TLT      TSLA      ^DJI\n",
              "Date                                                        \n",
              "2013-01-02       NaN       NaN       NaN       NaN       NaN\n",
              "2013-01-03 -0.008214 -0.008413 -0.013550 -0.016686 -0.001580\n",
              "2013-01-04  0.035650 -0.015295  0.003900 -0.010641  0.003274\n",
              "2013-01-07  0.022949 -0.001578  0.000422 -0.001744 -0.003790\n",
              "2013-01-08 -0.012237  0.009723  0.006585 -0.019220 -0.004142\n",
              "...              ...       ...       ...       ...       ...\n",
              "2020-12-23  0.003819  0.004339 -0.006909  0.008808  0.003809\n",
              "2020-12-24 -0.002648  0.000000  0.003957  0.024444  0.002325\n",
              "2020-12-28  0.035901  0.001334  0.000445  0.002901  0.006758\n",
              "2020-12-29 -0.000794  0.001332 -0.001271  0.003465 -0.002246\n",
              "2020-12-30 -0.017740  0.006012  0.002163  0.043229  0.002436\n",
              "\n",
              "[2014 rows x 5 columns]"
            ]
          },
          "metadata": {},
          "execution_count": 5
        }
      ]
    },
    {
      "cell_type": "code",
      "metadata": {
        "colab": {
          "base_uri": "https://localhost:8080/",
          "height": 204
        },
        "id": "z8Rnhvlg_-Zd",
        "outputId": "6a77455b-9dd2-4e1b-fbf9-59538a74f186"
      },
      "source": [
        "#Kovarians\n",
        "cov_matrix_annual=returns.cov() * 250\n",
        "cov_matrix_annual"
      ],
      "execution_count": null,
      "outputs": [
        {
          "output_type": "execute_result",
          "data": {
            "text/html": [
              "<div>\n",
              "<style scoped>\n",
              "    .dataframe tbody tr th:only-of-type {\n",
              "        vertical-align: middle;\n",
              "    }\n",
              "\n",
              "    .dataframe tbody tr th {\n",
              "        vertical-align: top;\n",
              "    }\n",
              "\n",
              "    .dataframe thead th {\n",
              "        text-align: right;\n",
              "    }\n",
              "</style>\n",
              "<table border=\"1\" class=\"dataframe\">\n",
              "  <thead>\n",
              "    <tr style=\"text-align: right;\">\n",
              "      <th></th>\n",
              "      <th>FB</th>\n",
              "      <th>GC=F</th>\n",
              "      <th>TLT</th>\n",
              "      <th>TSLA</th>\n",
              "      <th>^DJI</th>\n",
              "    </tr>\n",
              "  </thead>\n",
              "  <tbody>\n",
              "    <tr>\n",
              "      <th>FB</th>\n",
              "      <td>0.117869</td>\n",
              "      <td>0.000575</td>\n",
              "      <td>-0.008153</td>\n",
              "      <td>0.057612</td>\n",
              "      <td>0.028905</td>\n",
              "    </tr>\n",
              "    <tr>\n",
              "      <th>GC=F</th>\n",
              "      <td>0.000575</td>\n",
              "      <td>0.024429</td>\n",
              "      <td>0.004890</td>\n",
              "      <td>0.004331</td>\n",
              "      <td>-0.000184</td>\n",
              "    </tr>\n",
              "    <tr>\n",
              "      <th>TLT</th>\n",
              "      <td>-0.008153</td>\n",
              "      <td>0.004890</td>\n",
              "      <td>0.018413</td>\n",
              "      <td>-0.010213</td>\n",
              "      <td>-0.009392</td>\n",
              "    </tr>\n",
              "    <tr>\n",
              "      <th>TSLA</th>\n",
              "      <td>0.057612</td>\n",
              "      <td>0.004331</td>\n",
              "      <td>-0.010213</td>\n",
              "      <td>0.312612</td>\n",
              "      <td>0.034709</td>\n",
              "    </tr>\n",
              "    <tr>\n",
              "      <th>^DJI</th>\n",
              "      <td>0.028905</td>\n",
              "      <td>-0.000184</td>\n",
              "      <td>-0.009392</td>\n",
              "      <td>0.034709</td>\n",
              "      <td>0.030829</td>\n",
              "    </tr>\n",
              "  </tbody>\n",
              "</table>\n",
              "</div>"
            ],
            "text/plain": [
              "            FB      GC=F       TLT      TSLA      ^DJI\n",
              "FB    0.117869  0.000575 -0.008153  0.057612  0.028905\n",
              "GC=F  0.000575  0.024429  0.004890  0.004331 -0.000184\n",
              "TLT  -0.008153  0.004890  0.018413 -0.010213 -0.009392\n",
              "TSLA  0.057612  0.004331 -0.010213  0.312612  0.034709\n",
              "^DJI  0.028905 -0.000184 -0.009392  0.034709  0.030829"
            ]
          },
          "metadata": {},
          "execution_count": 6
        }
      ]
    },
    {
      "cell_type": "code",
      "metadata": {
        "colab": {
          "base_uri": "https://localhost:8080/",
          "height": 204
        },
        "id": "X09fSeBIAIUo",
        "outputId": "da07ed00-98f4-4757-fedf-d2f07e272126"
      },
      "source": [
        "#Pearons korrelation\n",
        "pear=returns.corr()\n",
        "pear"
      ],
      "execution_count": null,
      "outputs": [
        {
          "output_type": "execute_result",
          "data": {
            "text/html": [
              "<div>\n",
              "<style scoped>\n",
              "    .dataframe tbody tr th:only-of-type {\n",
              "        vertical-align: middle;\n",
              "    }\n",
              "\n",
              "    .dataframe tbody tr th {\n",
              "        vertical-align: top;\n",
              "    }\n",
              "\n",
              "    .dataframe thead th {\n",
              "        text-align: right;\n",
              "    }\n",
              "</style>\n",
              "<table border=\"1\" class=\"dataframe\">\n",
              "  <thead>\n",
              "    <tr style=\"text-align: right;\">\n",
              "      <th></th>\n",
              "      <th>FB</th>\n",
              "      <th>GC=F</th>\n",
              "      <th>TLT</th>\n",
              "      <th>TSLA</th>\n",
              "      <th>^DJI</th>\n",
              "    </tr>\n",
              "  </thead>\n",
              "  <tbody>\n",
              "    <tr>\n",
              "      <th>FB</th>\n",
              "      <td>1.000000</td>\n",
              "      <td>0.010722</td>\n",
              "      <td>-0.175006</td>\n",
              "      <td>0.300130</td>\n",
              "      <td>0.479511</td>\n",
              "    </tr>\n",
              "    <tr>\n",
              "      <th>GC=F</th>\n",
              "      <td>0.010722</td>\n",
              "      <td>1.000000</td>\n",
              "      <td>0.230573</td>\n",
              "      <td>0.049563</td>\n",
              "      <td>-0.006687</td>\n",
              "    </tr>\n",
              "    <tr>\n",
              "      <th>TLT</th>\n",
              "      <td>-0.175006</td>\n",
              "      <td>0.230573</td>\n",
              "      <td>1.000000</td>\n",
              "      <td>-0.134619</td>\n",
              "      <td>-0.394198</td>\n",
              "    </tr>\n",
              "    <tr>\n",
              "      <th>TSLA</th>\n",
              "      <td>0.300130</td>\n",
              "      <td>0.049563</td>\n",
              "      <td>-0.134619</td>\n",
              "      <td>1.000000</td>\n",
              "      <td>0.353558</td>\n",
              "    </tr>\n",
              "    <tr>\n",
              "      <th>^DJI</th>\n",
              "      <td>0.479511</td>\n",
              "      <td>-0.006687</td>\n",
              "      <td>-0.394198</td>\n",
              "      <td>0.353558</td>\n",
              "      <td>1.000000</td>\n",
              "    </tr>\n",
              "  </tbody>\n",
              "</table>\n",
              "</div>"
            ],
            "text/plain": [
              "            FB      GC=F       TLT      TSLA      ^DJI\n",
              "FB    1.000000  0.010722 -0.175006  0.300130  0.479511\n",
              "GC=F  0.010722  1.000000  0.230573  0.049563 -0.006687\n",
              "TLT  -0.175006  0.230573  1.000000 -0.134619 -0.394198\n",
              "TSLA  0.300130  0.049563 -0.134619  1.000000  0.353558\n",
              "^DJI  0.479511 -0.006687 -0.394198  0.353558  1.000000"
            ]
          },
          "metadata": {},
          "execution_count": 7
        }
      ]
    },
    {
      "cell_type": "code",
      "metadata": {
        "id": "Mo9X_VGyALwr"
      },
      "source": [
        "weights=np.array([0.20,0.20,0.20,0.20,0.20])"
      ],
      "execution_count": null,
      "outputs": []
    },
    {
      "cell_type": "code",
      "metadata": {
        "id": "mUTpDWB_bp4D",
        "colab": {
          "base_uri": "https://localhost:8080/"
        },
        "outputId": "0f236e8a-f03e-4ca3-f9ad-ee8e75bcd68b"
      },
      "source": [
        "weights"
      ],
      "execution_count": null,
      "outputs": [
        {
          "output_type": "execute_result",
          "data": {
            "text/plain": [
              "array([0.2, 0.2, 0.2, 0.2, 0.2])"
            ]
          },
          "metadata": {},
          "execution_count": 9
        }
      ]
    },
    {
      "cell_type": "code",
      "metadata": {
        "colab": {
          "base_uri": "https://localhost:8080/"
        },
        "id": "D1zSD9soAX2R",
        "outputId": "92490365-3905-46e7-f8c0-4b4ab5da45f5"
      },
      "source": [
        "#Udregning af porteføljens varians\n",
        "port_variance = np.dot(weights.T, np.dot(cov_matrix_annual, weights))\n",
        "\n",
        "#Udregning af standafvigelse (volatilitet)\n",
        "port_volatility=np.sqrt(port_variance)\n",
        "port_volatility"
      ],
      "execution_count": null,
      "outputs": [
        {
          "output_type": "execute_result",
          "data": {
            "text/plain": [
              "0.168560357432708"
            ]
          },
          "metadata": {},
          "execution_count": 10
        }
      ]
    },
    {
      "cell_type": "code",
      "metadata": {
        "colab": {
          "base_uri": "https://localhost:8080/"
        },
        "id": "Q1G9JNbuAdDZ",
        "outputId": "52574baa-bd7c-4ed2-91f8-32bf71af2e5b"
      },
      "source": [
        "#Årlige afkast fra porteføljen\n",
        "portfolioSimpleAnnualReturn = np.sum(returns.mean()*weights) * 253\n",
        "portfolioSimpleAnnualReturn"
      ],
      "execution_count": null,
      "outputs": [
        {
          "output_type": "execute_result",
          "data": {
            "text/plain": [
              "0.2585728276712513"
            ]
          },
          "metadata": {},
          "execution_count": 11
        }
      ]
    },
    {
      "cell_type": "code",
      "metadata": {
        "colab": {
          "base_uri": "https://localhost:8080/"
        },
        "id": "7z6cO_cKAf8h",
        "outputId": "13237b7f-4de8-4c33-93ca-8372e2e3fadb"
      },
      "source": [
        "#Forventede årlige afkast\n",
        "percent_return=str(round(portfolioSimpleAnnualReturn, 2)*100)+\"%\"\n",
        "\n",
        "#Volatilitet (risiko)\n",
        "percent_vol = str(round(port_volatility,2)*100)+\"%\"\n",
        "\n",
        "print('Det forventede årlige afkast:' + percent_return)\n",
        "print('Det forventede volatilitet/risiko:' + percent_vol)\n"
      ],
      "execution_count": null,
      "outputs": [
        {
          "output_type": "stream",
          "name": "stdout",
          "text": [
            "Det forventede årlige afkast:26.0%\n",
            "Det forventede volatilitet/risiko:17.0%\n"
          ]
        }
      ]
    },
    {
      "cell_type": "code",
      "metadata": {
        "colab": {
          "base_uri": "https://localhost:8080/"
        },
        "id": "h8-jCe1MAj59",
        "outputId": "3f2ab780-e98d-42df-99ef-57911d198235"
      },
      "source": [
        "#Forventede årlige afkast \n",
        "mu = expected_returns.mean_historical_return(df)\n",
        "S = risk_models.sample_cov(df)\n",
        "\n",
        "#Optimering ud fra maksimal sharpe ratio\n",
        "ef = EfficientFrontier(mu,S)\n",
        "weights_ef=ef.max_sharpe()\n",
        "cleaned_weights = ef.clean_weights()\n",
        "print(cleaned_weights)\n",
        "ef.portfolio_performance(verbose=True)"
      ],
      "execution_count": null,
      "outputs": [
        {
          "output_type": "stream",
          "name": "stdout",
          "text": [
            "OrderedDict([('FB', 0.22018), ('GC=F', 0.0), ('TLT', 0.51334), ('TSLA', 0.26648), ('^DJI', 0.0)])\n",
            "Expected annual return: 31.1%\n",
            "Annual volatility: 18.8%\n",
            "Sharpe Ratio: 1.55\n"
          ]
        },
        {
          "output_type": "execute_result",
          "data": {
            "text/plain": [
              "(0.3106010448763968, 0.18753155970354615, 1.5496114111981205)"
            ]
          },
          "metadata": {},
          "execution_count": 13
        }
      ]
    },
    {
      "cell_type": "code",
      "metadata": {
        "id": "4ev3Jju4LiRS",
        "colab": {
          "base_uri": "https://localhost:8080/",
          "height": 204
        },
        "outputId": "ee732b04-6e0b-465a-f212-aeef2c1f0078"
      },
      "source": [
        "S"
      ],
      "execution_count": null,
      "outputs": [
        {
          "output_type": "execute_result",
          "data": {
            "text/html": [
              "<div>\n",
              "<style scoped>\n",
              "    .dataframe tbody tr th:only-of-type {\n",
              "        vertical-align: middle;\n",
              "    }\n",
              "\n",
              "    .dataframe tbody tr th {\n",
              "        vertical-align: top;\n",
              "    }\n",
              "\n",
              "    .dataframe thead th {\n",
              "        text-align: right;\n",
              "    }\n",
              "</style>\n",
              "<table border=\"1\" class=\"dataframe\">\n",
              "  <thead>\n",
              "    <tr style=\"text-align: right;\">\n",
              "      <th></th>\n",
              "      <th>FB</th>\n",
              "      <th>GC=F</th>\n",
              "      <th>TLT</th>\n",
              "      <th>TSLA</th>\n",
              "      <th>^DJI</th>\n",
              "    </tr>\n",
              "  </thead>\n",
              "  <tbody>\n",
              "    <tr>\n",
              "      <th>FB</th>\n",
              "      <td>0.118812</td>\n",
              "      <td>0.000580</td>\n",
              "      <td>-0.008218</td>\n",
              "      <td>0.058073</td>\n",
              "      <td>0.029137</td>\n",
              "    </tr>\n",
              "    <tr>\n",
              "      <th>GC=F</th>\n",
              "      <td>0.000580</td>\n",
              "      <td>0.024625</td>\n",
              "      <td>0.004929</td>\n",
              "      <td>0.004366</td>\n",
              "      <td>-0.000185</td>\n",
              "    </tr>\n",
              "    <tr>\n",
              "      <th>TLT</th>\n",
              "      <td>-0.008218</td>\n",
              "      <td>0.004929</td>\n",
              "      <td>0.018560</td>\n",
              "      <td>-0.010295</td>\n",
              "      <td>-0.009467</td>\n",
              "    </tr>\n",
              "    <tr>\n",
              "      <th>TSLA</th>\n",
              "      <td>0.058073</td>\n",
              "      <td>0.004366</td>\n",
              "      <td>-0.010295</td>\n",
              "      <td>0.315113</td>\n",
              "      <td>0.034987</td>\n",
              "    </tr>\n",
              "    <tr>\n",
              "      <th>^DJI</th>\n",
              "      <td>0.029137</td>\n",
              "      <td>-0.000185</td>\n",
              "      <td>-0.009467</td>\n",
              "      <td>0.034987</td>\n",
              "      <td>0.031076</td>\n",
              "    </tr>\n",
              "  </tbody>\n",
              "</table>\n",
              "</div>"
            ],
            "text/plain": [
              "            FB      GC=F       TLT      TSLA      ^DJI\n",
              "FB    0.118812  0.000580 -0.008218  0.058073  0.029137\n",
              "GC=F  0.000580  0.024625  0.004929  0.004366 -0.000185\n",
              "TLT  -0.008218  0.004929  0.018560 -0.010295 -0.009467\n",
              "TSLA  0.058073  0.004366 -0.010295  0.315113  0.034987\n",
              "^DJI  0.029137 -0.000185 -0.009467  0.034987  0.031076"
            ]
          },
          "metadata": {},
          "execution_count": 14
        }
      ]
    },
    {
      "cell_type": "code",
      "metadata": {
        "id": "JAVfa8Q3Li01"
      },
      "source": [
        ""
      ],
      "execution_count": null,
      "outputs": []
    }
  ]
}